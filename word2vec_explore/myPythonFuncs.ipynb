{
 "cells": [
  {
   "cell_type": "code",
   "execution_count": 1,
   "metadata": {
    "collapsed": false
   },
   "outputs": [],
   "source": [
    "userInput = {'x': ['hate', 'love'], 'y': ['violence','peace'], 'z': ['sad','happy'], 'text': 'this is a string of text about happiness and sadness but mostly sadness in fact maybe even despair.  Despair is dark, dark like fighting and war and unquiet nights.'}\n"
   ]
  },
  {
   "cell_type": "code",
   "execution_count": 2,
   "metadata": {
    "collapsed": false
   },
   "outputs": [
    {
     "name": "stderr",
     "output_type": "stream",
     "text": [
      "/usr/local/lib/python2.7/site-packages/gensim/utils.py:1015: UserWarning: Pattern library is not installed, lemmatization won't be available.\n",
      "  warnings.warn(\"Pattern library is not installed, lemmatization won't be available.\")\n"
     ]
    }
   ],
   "source": [
    "import numpy as np\n",
    "import pandas as pd\n",
    "from bs4 import BeautifulSoup\n",
    "import re\n",
    "from nltk.corpus import stopwords\n",
    "from gensim.models import word2vec"
   ]
  },
  {
   "cell_type": "code",
   "execution_count": 3,
   "metadata": {
    "collapsed": false
   },
   "outputs": [],
   "source": [
    "news = word2vec.Word2Vec.load_word2vec_format('bigFiles/GoogleNews-vectors-negative300.bin', binary=True)\n"
   ]
  },
  {
   "cell_type": "code",
   "execution_count": 33,
   "metadata": {
    "collapsed": false
   },
   "outputs": [],
   "source": [
    "def text_to_words(textfield, model):\n",
    "    textblock = BeautifulSoup(textfield, 'html.parser').get_text()\n",
    "    textblock = re.sub(\"[^a-zA-Z]\", \" \", textblock)\n",
    "    words = textblock.lower().split()\n",
    "    stops = set(stopwords.words(\"english\"))\n",
    "    words = [w for w in words if w in model and not w in stops]\n",
    "    return words\n"
   ]
  },
  {
   "cell_type": "code",
   "execution_count": 59,
   "metadata": {
    "collapsed": false
   },
   "outputs": [],
   "source": [
    "def project3D(model, xmax, ymax, zmax, words, words2 = None):\n",
    "    print \"WORDS \"\n",
    "    print words\n",
    "    print \"WORDS2\"\n",
    "    print words2\n",
    "    wordCoordinates={}\n",
    "    wordCoordinates2={}\n",
    "\n",
    "    for word in words:\n",
    "        coords = []\n",
    "        coords.append(np.asscalar(np.dot(model[word], xmax)/np.linalg.norm(xmax)))\n",
    "        coords.append(np.asscalar(np.dot(model[word], ymax)/np.linalg.norm(ymax)))\n",
    "        coords.append(np.asscalar(np.dot(model[word], zmax)/np.linalg.norm(zmax)))\n",
    "        wordCoordinates[word] = coords\n",
    "\n",
    "    if words2 != None:\n",
    "        for word in words2:\n",
    "            coords = []\n",
    "            coords.append(np.asscalar(np.dot(model[word], xmax)/np.linalg.norm(xmax)))\n",
    "            coords.append(np.asscalar(np.dot(model[word], ymax)/np.linalg.norm(ymax)))\n",
    "            coords.append(np.asscalar(np.dot(model[word], zmax)/np.linalg.norm(zmax)))\n",
    "            wordCoordinates2[word] = coords\n",
    "\n",
    "    return {'text1': wordCoordinates, 'text2': wordCoordinates2}\n",
    "\n",
    "\n",
    "# wordCoordinate = {}\n",
    "# {'happy' : [.234, .32484387, .984357], 'puppy': [.234234, .4983982, .21425]}"
   ]
  },
  {
   "cell_type": "code",
   "execution_count": 60,
   "metadata": {
    "collapsed": false
   },
   "outputs": [],
   "source": [
    "def avgWordVec(arrayOfStrings):\n",
    "    vecs = [news[w] for w in arrayOfStrings if w in news]\n",
    "    return reduce(lambda sum, word: sum + word, vecs, np.zeros(news.vector_size))/len(vecs)\n"
   ]
  },
  {
   "cell_type": "code",
   "execution_count": 61,
   "metadata": {
    "collapsed": false
   },
   "outputs": [],
   "source": [
    "def getPoints(userInputObj):\n",
    "    print userInputObj\n",
    "\n",
    "    textfield = userInputObj['text']\n",
    "    wordsToPlot = [text_to_words(textfield, news)]\n",
    "\n",
    "    if 'text2' in userInputObj:\n",
    "        print \"in text2\"\n",
    "        textfield2 = userInputObj['text2']\n",
    "        wordsToPlot.append(text_to_words(textfield2, news))\n",
    "\n",
    "    print wordsToPlot\n",
    "    xmax = avgWordVec(userInputObj['x'][1])\n",
    "\n",
    "    ymax = avgWordVec(userInputObj['y'][1])\n",
    "\n",
    "    zmax = avgWordVec(userInputObj['z'][1])\n",
    "\n",
    "    words_with_coords = project3D(news, xmax, ymax, zmax, *wordsToPlot)\n",
    "    return words_with_coords"
   ]
  },
  {
   "cell_type": "code",
   "execution_count": 62,
   "metadata": {
    "collapsed": true
   },
   "outputs": [],
   "source": [
    "inputBo =    {\n",
    "      \"x\": [[\"despair\", \"sorrow\", \"hopeless\"], [\"joy\", \"hope\", \"happiness\"]],\n",
    "      \"y\": [[\"conflict\", \"strife\", \"violence\"], [\"peace\", \"calm\", \"tranquility\"]],\n",
    "      \"z\": [[\"danger\", \"warning\", \"unsafe\",\"harm\"], [\"security\", \"safe\", \"secure\"]],\n",
    "      \"text\": \"My fellow citizens:  I stand here today humbled by the task before us\",\n",
    "      \"text2\": \"Friends, delegates and fellow Americans: I humbly and gratefully accept\"\n",
    "    }\n",
    "\n"
   ]
  },
  {
   "cell_type": "code",
   "execution_count": 63,
   "metadata": {
    "collapsed": false
   },
   "outputs": [
    {
     "name": "stdout",
     "output_type": "stream",
     "text": [
      "{'y': [['conflict', 'strife', 'violence'], ['peace', 'calm', 'tranquility']], 'x': [['despair', 'sorrow', 'hopeless'], ['joy', 'hope', 'happiness']], 'z': [['danger', 'warning', 'unsafe', 'harm'], ['security', 'safe', 'secure']], 'text2': 'Friends, delegates and fellow Americans: I humbly and gratefully accept', 'text': 'My fellow citizens:  I stand here today humbled by the task before us'}\n",
      "in text2\n",
      "[[u'fellow', u'citizens', u'stand', u'today', u'humbled', u'task', u'us'], [u'friends', u'delegates', u'fellow', u'americans', u'humbly', u'gratefully', u'accept']]\n",
      "WORDS \n",
      "[u'fellow', u'citizens', u'stand', u'today', u'humbled', u'task', u'us']\n",
      "WORDS2\n",
      "[u'friends', u'delegates', u'fellow', u'americans', u'humbly', u'gratefully', u'accept']\n"
     ]
    },
    {
     "data": {
      "text/plain": [
       "{'text1': {u'citizens': [0.4389950429457385,\n",
       "   0.49476308006783787,\n",
       "   0.664882929885206],\n",
       "  u'fellow': [0.2613334917338792, 0.14040720377278554, 0.13166904246603484],\n",
       "  u'humbled': [0.8129367111675189, 0.4807172799638751, 0.24147339576194976],\n",
       "  u'stand': [0.1438623356189166, 0.2622651720140307, 0.32395431288080845],\n",
       "  u'task': [0.408399373039623, 0.2608118734050389, 0.32513731093214626],\n",
       "  u'today': [0.16049734751631656, 0.11228857618341638, 0.3101258189207309],\n",
       "  u'us': [0.5784479300288867, 0.37971418810371643, 0.4655427425530187]},\n",
       " 'text2': {u'accept': [0.37117455107944985,\n",
       "   0.11694659630447654,\n",
       "   0.4594992484701202],\n",
       "  u'americans': [0.24499665542954616,\n",
       "   -0.06395969554071958,\n",
       "   0.3075610319214677],\n",
       "  u'delegates': [0.21149913066157622, 0.3213215667227717, 0.2288671998939325],\n",
       "  u'fellow': [0.2613334917338792, 0.14040720377278554, 0.13166904246603484],\n",
       "  u'friends': [0.6966649744286775, 0.3742455942823086, 0.3456705863914378],\n",
       "  u'gratefully': [0.7628253371499252, 0.5057028964319756, 0.17846088283547268],\n",
       "  u'humbly': [0.662548680633514, 0.5492929382295252, 0.024143529255060393]}}"
      ]
     },
     "execution_count": 63,
     "metadata": {},
     "output_type": "execute_result"
    }
   ],
   "source": [
    "getPoints(inputBo)"
   ]
  },
  {
   "cell_type": "code",
   "execution_count": null,
   "metadata": {
    "collapsed": true
   },
   "outputs": [],
   "source": []
  }
 ],
 "metadata": {
  "kernelspec": {
   "display_name": "Python 2",
   "language": "python",
   "name": "python2"
  },
  "language_info": {
   "codemirror_mode": {
    "name": "ipython",
    "version": 2
   },
   "file_extension": ".py",
   "mimetype": "text/x-python",
   "name": "python",
   "nbconvert_exporter": "python",
   "pygments_lexer": "ipython2",
   "version": "2.7.12"
  }
 },
 "nbformat": 4,
 "nbformat_minor": 1
}
