{
 "cells": [
  {
   "cell_type": "code",
   "execution_count": 13,
   "metadata": {
    "collapsed": false
   },
   "outputs": [
    {
     "ename": "NameError",
     "evalue": "name 'textfield' is not defined",
     "output_type": "error",
     "traceback": [
      "\u001b[0;31m---------------------------------------------------------------------------\u001b[0m",
      "\u001b[0;31mNameError\u001b[0m                                 Traceback (most recent call last)",
      "\u001b[0;32m<ipython-input-13-064b83fb3ed9>\u001b[0m in \u001b[0;36m<module>\u001b[0;34m()\u001b[0m\n\u001b[1;32m      1\u001b[0m \u001b[0muserInput\u001b[0m \u001b[0;34m=\u001b[0m \u001b[0;34m{\u001b[0m\u001b[0;34m'x'\u001b[0m\u001b[0;34m:\u001b[0m \u001b[0;34m[\u001b[0m\u001b[0;34m'hate'\u001b[0m\u001b[0;34m,\u001b[0m \u001b[0;34m'love'\u001b[0m\u001b[0;34m]\u001b[0m\u001b[0;34m,\u001b[0m \u001b[0;34m'y'\u001b[0m\u001b[0;34m:\u001b[0m \u001b[0;34m[\u001b[0m\u001b[0;34m'violence'\u001b[0m\u001b[0;34m,\u001b[0m\u001b[0;34m'peace'\u001b[0m\u001b[0;34m]\u001b[0m\u001b[0;34m,\u001b[0m \u001b[0;34m'z'\u001b[0m\u001b[0;34m:\u001b[0m \u001b[0;34m[\u001b[0m\u001b[0;34m'sad'\u001b[0m\u001b[0;34m,\u001b[0m\u001b[0;34m'happy'\u001b[0m\u001b[0;34m]\u001b[0m\u001b[0;34m,\u001b[0m \u001b[0;34m'text'\u001b[0m\u001b[0;34m:\u001b[0m \u001b[0;34m'this is a string of text about happiness and sadness but mostly sadness in fact maybe even despair.  Despair is dark, dark like fighting and war and unquiet nights.'\u001b[0m\u001b[0;34m}\u001b[0m\u001b[0;34m\u001b[0m\u001b[0m\n\u001b[0;32m----> 2\u001b[0;31m \u001b[0mtextfield\u001b[0m\u001b[0;34m,\u001b[0m \u001b[0mxmin\u001b[0m\u001b[0;34m,\u001b[0m \u001b[0mxmax\u001b[0m\u001b[0;34m,\u001b[0m \u001b[0mymin\u001b[0m\u001b[0;34m,\u001b[0m \u001b[0mymax\u001b[0m\u001b[0;34m,\u001b[0m \u001b[0mzmin\u001b[0m\u001b[0;34m,\u001b[0m \u001b[0mzmax\u001b[0m\u001b[0;34m,\u001b[0m \u001b[0mwords\u001b[0m\u001b[0;34m\u001b[0m\u001b[0m\n\u001b[0m",
      "\u001b[0;31mNameError\u001b[0m: name 'textfield' is not defined"
     ]
    }
   ],
   "source": [
    "userInput = {'x': ['hate', 'love'], 'y': ['violence','peace'], 'z': ['sad','happy'], 'text': 'this is a string of text about happiness and sadness but mostly sadness in fact maybe even despair.  Despair is dark, dark like fighting and war and unquiet nights.'}\n",
    "textfield, xmin, xmax, ymin, ymax, zmin, zmax, words\n"
   ]
  },
  {
   "cell_type": "code",
   "execution_count": 4,
   "metadata": {
    "collapsed": false
   },
   "outputs": [
    {
     "name": "stderr",
     "output_type": "stream",
     "text": [
      "/usr/local/lib/python2.7/site-packages/gensim/utils.py:1015: UserWarning: Pattern library is not installed, lemmatization won't be available.\n",
      "  warnings.warn(\"Pattern library is not installed, lemmatization won't be available.\")\n"
     ]
    }
   ],
   "source": [
    "import numpy as np\n",
    "import pandas as pd\n",
    "from bs4 import BeautifulSoup\n",
    "import re\n",
    "from nltk.corpus import stopwords\n",
    "from gensim.models import word2vec"
   ]
  },
  {
   "cell_type": "code",
   "execution_count": 5,
   "metadata": {
    "collapsed": false
   },
   "outputs": [],
   "source": [
    "news = word2vec.Word2Vec.load_word2vec_format('GoogleNews-vectors-negative300.bin', binary=True)\n"
   ]
  },
  {
   "cell_type": "code",
   "execution_count": 63,
   "metadata": {
    "collapsed": false
   },
   "outputs": [],
   "source": [
    "def text_to_words(textfield):\n",
    "    textblock = BeautifulSoup(textfield).get_text()\n",
    "    textblock = re.sub(\"[^a-zA-Z]\", \" \", textblock)\n",
    "    words = textblock.lower().split()\n",
    "    stops = set(stopwords.words(\"english\"))\n",
    "    words = [w for w in words if not w in stops]\n",
    "    print words\n",
    "    return words\n"
   ]
  },
  {
   "cell_type": "code",
   "execution_count": 69,
   "metadata": {
    "collapsed": false
   },
   "outputs": [],
   "source": [
    "\n",
    "def project3D(model, xmin, xmax, ymin, ymax, zmin, zmax, words):\n",
    "    wordCoordinates={}\n",
    "\n",
    "    xminVec, xmaxVec = model[xmin], model[xmax]\n",
    "    xaxis = xmaxVec - xminVec\n",
    "\n",
    "    yminVec, ymaxVec = model[ymin], model[ymax]\n",
    "    yaxis = ymaxVec - yminVec\n",
    "\n",
    "    zminVec, zmaxVec = model[zmin], model[zmax]\n",
    "    zaxis = zmaxVec - zminVec\n",
    "\n",
    "    for word in words:\n",
    "       \n",
    "        wordCoordinates[word] = [(np.dot(model[word] - xminVec, xaxis) / np.dot(xaxis, xaxis))]\n",
    "        wordCoordinates[word].append(np.dot(model[word] - yminVec, yaxis) / np.dot(yaxis, yaxis))\n",
    "        wordCoordinates[word].append(np.dot(model[word] - zminVec, zaxis) / np.dot(zaxis, zaxis))\n",
    "        \n",
    "\n",
    "    return wordCoordinates\n",
    "\n",
    "\n",
    "# wordCoordinate = {}\n",
    "# {'happy' : [.234, .32484387, .984357], 'puppy': [.234234, .4983982, .21425]}"
   ]
  },
  {
   "cell_type": "code",
   "execution_count": 70,
   "metadata": {
    "collapsed": false
   },
   "outputs": [],
   "source": [
    "def getPointsFromWords(userInputObj):\n",
    "    textfield = userInputObj['text']\n",
    "    wordsToPlot = text_to_words(textfield)\n",
    "    print wordsToPlot[3]\n",
    "\n",
    "    xmin = userInputObj['x'][0]\n",
    "    xmax = userInputObj['x'][1]\n",
    "\n",
    "    ymin = userInputObj['y'][0]\n",
    "    ymax = userInputObj['y'][1]\n",
    "\n",
    "    zmin = userInputObj['z'][0]\n",
    "    zmax = userInputObj['z'][1]\n",
    "\n",
    "    words_with_coords = project3D(news, xmin, xmax, ymin, ymax, zmin, zmax, wordsToPlot)\n",
    "    return words_with_coords\n"
   ]
  },
  {
   "cell_type": "code",
   "execution_count": 71,
   "metadata": {
    "collapsed": false
   },
   "outputs": [
    {
     "name": "stdout",
     "output_type": "stream",
     "text": [
      "[u'string', u'text', u'happiness', u'sadness', u'mostly', u'sadness', u'fact', u'maybe', u'even', u'despair', u'despair', u'dark', u'dark', u'like', u'fighting', u'war', u'unquiet', u'nights']\n",
      "sadness\n"
     ]
    },
    {
     "data": {
      "text/plain": [
       "{u'dark': [0.61010414, 0.46065113, 0.49404886],\n",
       " u'despair': [0.61152101, 0.42039439, 0.38471106],\n",
       " u'even': [0.51923549, 0.48055968, 0.68398511],\n",
       " u'fact': [0.4884477, 0.46744075, 0.56579548],\n",
       " u'fighting': [0.49111822, 0.43979004, 0.66982323],\n",
       " u'happiness': [0.88769686, 0.62370235, 0.70839846],\n",
       " u'like': [0.53431785, 0.49360472, 0.6401512],\n",
       " u'maybe': [0.51621515, 0.50104284, 0.67815],\n",
       " u'mostly': [0.48655573, 0.41687465, 0.64475626],\n",
       " u'nights': [0.61913854, 0.41950154, 0.73222399],\n",
       " u'sadness': [0.67833835, 0.45136693, 0.19086601],\n",
       " u'string': [0.53003192, 0.46361193, 0.60144287],\n",
       " u'text': [0.57253617, 0.49020639, 0.64799196],\n",
       " u'unquiet': [0.65058374, 0.53058439, 0.50901604],\n",
       " u'war': [0.46136031, 0.47831705, 0.58416587]}"
      ]
     },
     "execution_count": 71,
     "metadata": {},
     "output_type": "execute_result"
    }
   ],
   "source": [
    "getPointsFromWords(userInput)"
   ]
  },
  {
   "cell_type": "code",
   "execution_count": null,
   "metadata": {
    "collapsed": true
   },
   "outputs": [],
   "source": []
  }
 ],
 "metadata": {
  "kernelspec": {
   "display_name": "Python 2",
   "language": "python",
   "name": "python2"
  },
  "language_info": {
   "codemirror_mode": {
    "name": "ipython",
    "version": 2
   },
   "file_extension": ".py",
   "mimetype": "text/x-python",
   "name": "python",
   "nbconvert_exporter": "python",
   "pygments_lexer": "ipython2",
   "version": "2.7.12"
  }
 },
 "nbformat": 4,
 "nbformat_minor": 1
}
