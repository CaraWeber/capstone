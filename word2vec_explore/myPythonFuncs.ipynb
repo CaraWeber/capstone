{
 "cells": [
  {
   "cell_type": "code",
   "execution_count": 5,
   "metadata": {
    "collapsed": false
   },
   "outputs": [],
   "source": [
    "userInput = {'x': ['hate', 'love'], 'y': ['violence','peace'], 'z': ['sad','happy'], 'text': 'this is a string of text about happiness and sadness but mostly sadness in fact maybe even despair.  Despair is dark, dark like fighting and war and unquiet nights.'}\n"
   ]
  },
  {
   "cell_type": "code",
   "execution_count": 1,
   "metadata": {
    "collapsed": false
   },
   "outputs": [
    {
     "name": "stderr",
     "output_type": "stream",
     "text": [
      "/usr/local/lib/python2.7/site-packages/gensim/utils.py:1015: UserWarning: Pattern library is not installed, lemmatization won't be available.\n",
      "  warnings.warn(\"Pattern library is not installed, lemmatization won't be available.\")\n"
     ]
    }
   ],
   "source": [
    "import numpy as np\n",
    "import pandas as pd\n",
    "from bs4 import BeautifulSoup\n",
    "import re\n",
    "from nltk.corpus import stopwords\n",
    "from gensim.models import word2vec"
   ]
  },
  {
   "cell_type": "code",
   "execution_count": 2,
   "metadata": {
    "collapsed": false
   },
   "outputs": [],
   "source": [
    "news = word2vec.Word2Vec.load_word2vec_format('bigFiles/GoogleNews-vectors-negative300.bin', binary=True)\n"
   ]
  },
  {
   "cell_type": "code",
   "execution_count": 3,
   "metadata": {
    "collapsed": false
   },
   "outputs": [],
   "source": [
    "def text_to_words(textfield):\n",
    "    textblock = BeautifulSoup(textfield).get_text()\n",
    "    textblock = re.sub(\"[^a-zA-Z]\", \" \", textblock)\n",
    "    words = textblock.lower().split()\n",
    "    stops = set(stopwords.words(\"english\"))\n",
    "    words = [w for w in words if not w in stops]\n",
    "    print words\n",
    "    return words\n"
   ]
  },
  {
   "cell_type": "code",
   "execution_count": 4,
   "metadata": {
    "collapsed": false
   },
   "outputs": [],
   "source": [
    "\n",
    "def project3D(model, xmin, xmax, ymin, ymax, zmin, zmax, words):\n",
    "    wordCoordinates={}\n",
    "\n",
    "    xminVec, xmaxVec = model[xmin], model[xmax]\n",
    "    xaxis = xmaxVec - xminVec\n",
    "\n",
    "    yminVec, ymaxVec = model[ymin], model[ymax]\n",
    "    yaxis = ymaxVec - yminVec\n",
    "\n",
    "    zminVec, zmaxVec = model[zmin], model[zmax]\n",
    "    zaxis = zmaxVec - zminVec\n",
    "\n",
    "    for word in words:\n",
    "       \n",
    "        wordCoordinates[word] = [(np.dot(model[word] - xminVec, xaxis) / np.dot(xaxis, xaxis))]\n",
    "        wordCoordinates[word].append(np.dot(model[word] - yminVec, yaxis) / np.dot(yaxis, yaxis))\n",
    "        wordCoordinates[word].append(np.dot(model[word] - zminVec, zaxis) / np.dot(zaxis, zaxis))\n",
    "        \n",
    "\n",
    "    return wordCoordinates\n",
    "\n",
    "\n",
    "# wordCoordinate = {}\n",
    "# {'happy' : [.234, .32484387, .984357], 'puppy': [.234234, .4983982, .21425]}"
   ]
  },
  {
   "cell_type": "code",
   "execution_count": 5,
   "metadata": {
    "collapsed": false
   },
   "outputs": [],
   "source": [
    "def getPointsFromWords(userInputObj):\n",
    "    textfield = userInputObj['text']\n",
    "    wordsToPlot = text_to_words(textfield)\n",
    "    print wordsToPlot[3]\n",
    "\n",
    "    xmin = userInputObj['x'][0]\n",
    "    xmax = userInputObj['x'][1]\n",
    "\n",
    "    ymin = userInputObj['y'][0]\n",
    "    ymax = userInputObj['y'][1]\n",
    "\n",
    "    zmin = userInputObj['z'][0]\n",
    "    zmax = userInputObj['z'][1]\n",
    "\n",
    "    words_with_coords = project3D(news, xmin, xmax, ymin, ymax, zmin, zmax, wordsToPlot)\n",
    "    return words_with_coords\n"
   ]
  },
  {
   "cell_type": "code",
   "execution_count": 11,
   "metadata": {
    "collapsed": false
   },
   "outputs": [
    {
     "name": "stdout",
     "output_type": "stream",
     "text": [
      "[u'string', u'text', u'happiness', u'sadness', u'mostly', u'sadness', u'fact', u'maybe', u'even', u'despair', u'despair', u'dark', u'dark', u'like', u'fighting', u'war', u'unquiet', u'nights']\n",
      "sadness\n"
     ]
    },
    {
     "name": "stderr",
     "output_type": "stream",
     "text": [
      "/usr/local/lib/python2.7/site-packages/bs4/__init__.py:181: UserWarning: No parser was explicitly specified, so I'm using the best available HTML parser for this system (\"html.parser\"). This usually isn't a problem, but if you run this code on another system, or in a different virtual environment, it may use a different parser and behave differently.\n",
      "\n",
      "The code that caused this warning is on line 174 of the file /usr/local/Cellar/python/2.7.12_2/Frameworks/Python.framework/Versions/2.7/lib/python2.7/runpy.py. To get rid of this warning, change code that looks like this:\n",
      "\n",
      " BeautifulSoup([your markup])\n",
      "\n",
      "to this:\n",
      "\n",
      " BeautifulSoup([your markup], \"html.parser\")\n",
      "\n",
      "  markup_type=markup_type))\n"
     ]
    },
    {
     "data": {
      "text/plain": [
       "{u'dark': [0.61010414, 0.46065113, 0.49404886],\n",
       " u'despair': [0.61152101, 0.42039439, 0.38471106],\n",
       " u'even': [0.51923549, 0.48055968, 0.68398511],\n",
       " u'fact': [0.4884477, 0.46744075, 0.56579548],\n",
       " u'fighting': [0.49111822, 0.43979004, 0.66982323],\n",
       " u'happiness': [0.88769686, 0.62370235, 0.70839846],\n",
       " u'like': [0.53431785, 0.49360472, 0.6401512],\n",
       " u'maybe': [0.51621515, 0.50104284, 0.67815],\n",
       " u'mostly': [0.48655573, 0.41687465, 0.64475626],\n",
       " u'nights': [0.61913854, 0.41950154, 0.73222399],\n",
       " u'sadness': [0.67833835, 0.45136693, 0.19086601],\n",
       " u'string': [0.53003192, 0.46361193, 0.60144287],\n",
       " u'text': [0.57253617, 0.49020639, 0.64799196],\n",
       " u'unquiet': [0.65058374, 0.53058439, 0.50901604],\n",
       " u'war': [0.46136031, 0.47831705, 0.58416587]}"
      ]
     },
     "execution_count": 11,
     "metadata": {},
     "output_type": "execute_result"
    }
   ],
   "source": [
    "getPointsFromWords(userInput)"
   ]
  },
  {
   "cell_type": "code",
   "execution_count": 24,
   "metadata": {
    "collapsed": true
   },
   "outputs": [],
   "source": [
    "def avgWordVec(arrayOfStrings):\n",
    "    vecs = [news[w] for w in arrayOfStrings if w in news]\n",
    "    return reduce(lambda sum, word: sum + word, vecs, np.zeros(news.vector_size))/len(vecs)\n"
   ]
  },
  {
   "cell_type": "code",
   "execution_count": 25,
   "metadata": {
    "collapsed": true
   },
   "outputs": [],
   "source": [
    "strings = ['peace', 'calm', 'treaty','non-violence']"
   ]
  },
  {
   "cell_type": "code",
   "execution_count": 26,
   "metadata": {
    "collapsed": false
   },
   "outputs": [
    {
     "data": {
      "text/plain": [
       "array([ 0.19840495,  0.15234375,  0.30924479,  0.21809896,  0.02469889,\n",
       "       -0.08976237,  0.05883789, -0.02750651,  0.21826172,  0.10831706,\n",
       "       -0.07326253, -0.02408854, -0.09684245,  0.18391927, -0.2734375 ,\n",
       "        0.01993815,  0.10359701,  0.13850911,  0.00512695, -0.2281901 ,\n",
       "        0.27140299,  0.31363932,  0.05855306,  0.06107585, -0.05273438,\n",
       "        0.04988607, -0.11702474,  0.12268066,  0.29182943, -0.09667969,\n",
       "       -0.11588542, -0.24820964, -0.23364258, -0.02872721, -0.06180827,\n",
       "       -0.11425781, -0.015625  ,  0.05403646, -0.01041667,  0.14876302,\n",
       "        0.002889  ,  0.05037435,  0.1015625 ,  0.02457682, -0.39908854,\n",
       "        0.02685547,  0.        ,  0.04829915, -0.2195638 ,  0.1554362 ,\n",
       "        0.10742188, -0.08203125, -0.19287109, -0.04508464, -0.02237956,\n",
       "       -0.00472005, -0.1858724 , -0.14908854, -0.15861003, -0.25227865,\n",
       "        0.02766927,  0.12939453,  0.03059896, -0.10839844,  0.11735026,\n",
       "        0.1792806 ,  0.07356771, -0.06705729, -0.0867513 , -0.12044271,\n",
       "        0.08186849,  0.18532308,  0.26106771,  0.14111328, -0.18261719,\n",
       "       -0.23372396, -0.10481771,  0.15250651,  0.14241536,  0.21842448,\n",
       "       -0.14550781, -0.01009115,  0.07674154, -0.03515625,  0.13834635,\n",
       "       -0.02895864,  0.0999349 ,  0.03092448,  0.06673177,  0.16396077,\n",
       "        0.01346842, -0.05094401, -0.05721029, -0.1796875 , -0.12727865,\n",
       "        0.02982585,  0.08463542, -0.2325236 ,  0.17138672, -0.34309896,\n",
       "       -0.07328288,  0.00683594,  0.10761515, -0.02740479,  0.06640625,\n",
       "        0.03059896, -0.18082682, -0.06526693,  0.05259196,  0.08496094,\n",
       "       -0.05664062,  0.21533203,  0.16894531, -0.10270182, -0.19742839,\n",
       "        0.05460612,  0.03304036,  0.04980469,  0.07845052,  0.02270508,\n",
       "       -0.04410807,  0.1796875 , -0.15136719,  0.05789693, -0.10970052,\n",
       "       -0.11165365,  0.18408203, -0.10693359,  0.07177734,  0.03564453,\n",
       "        0.20979818,  0.11562093, -0.07218424,  0.21386719, -0.0826416 ,\n",
       "       -0.08569336, -0.01109823, -0.04703776, -0.01074219,  0.0423584 ,\n",
       "       -0.03776042, -0.08170573,  0.15756226, -0.11071777, -0.04410807,\n",
       "        0.15938314, -0.13997396, -0.02099609,  0.04134115,  0.05615234,\n",
       "        0.11393229, -0.10091146,  0.07845052,  0.14973958, -0.04785156,\n",
       "       -0.171875  ,  0.19539388, -0.05875651, -0.04838053,  0.18774414,\n",
       "       -0.14404297,  0.08109538,  0.1414388 , -0.04964193,  0.04956055,\n",
       "       -0.18652344,  0.03483073, -0.00404867,  0.03548177,  0.15055339,\n",
       "       -0.04066976,  0.11914062,  0.09515381, -0.18229167,  0.01782227,\n",
       "        0.0374349 ,  0.00520833,  0.06542969, -0.20166016, -0.22330729,\n",
       "       -0.31152344,  0.00789388,  0.33300781, -0.04329427,  0.16707357,\n",
       "        0.11783854,  0.10880534, -0.00602214, -0.01147461, -0.03230794,\n",
       "       -0.33365885,  0.10172526,  0.05908203,  0.03190104,  0.0485026 ,\n",
       "        0.06542969,  0.0789388 ,  0.17561849,  0.00174967, -0.15869141,\n",
       "       -0.01098633, -0.06152344, -0.15690104, -0.0139974 ,  0.12125651,\n",
       "       -0.23763021,  0.0999349 , -0.17797852,  0.07014974, -0.05637614,\n",
       "       -0.37451172,  0.11181641, -0.03686523, -0.00984701,  0.07794189,\n",
       "       -0.0218099 , -0.15039062, -0.12841797, -0.27097575, -0.00960286,\n",
       "        0.08658854, -0.00553385,  0.10723877, -0.11291504, -0.0374349 ,\n",
       "       -0.18684896,  0.36197917,  0.06315104,  0.13350423,  0.09863281,\n",
       "        0.0061849 , -0.07356771, -0.1023763 , -0.08146159,  0.12988281,\n",
       "        0.00113932, -0.15568034, -0.00480143,  0.19742839, -0.14388021,\n",
       "        0.14550781, -0.16357422, -0.05217743,  0.08740234,  0.06787109,\n",
       "       -0.02339681, -0.18245443, -0.2626241 ,  0.01199341,  0.15364583,\n",
       "       -0.13057454,  0.00912094,  0.02500407,  0.2327474 ,  0.06266276,\n",
       "       -0.20524089,  0.19091797, -0.13582357,  0.15690104, -0.17447917,\n",
       "        0.16194661, -0.10888672, -0.03629557,  0.14697266,  0.09578451,\n",
       "        0.17696126, -0.12272135, -0.23893229, -0.25870768, -0.26660156,\n",
       "        0.0875651 ,  0.15234375,  0.11702474,  0.19205729, -0.01000977,\n",
       "        0.06751251, -0.05688477,  0.08780924, -0.22623698,  0.01676432,\n",
       "       -0.02844747, -0.03849284, -0.06770833,  0.0406901 ,  0.26432292,\n",
       "       -0.15755208, -0.18277995,  0.15559896,  0.04386393,  0.0633138 ,\n",
       "       -0.14485677, -0.18782552,  0.12638346, -0.23404948, -0.18457031,\n",
       "        0.26171875, -0.04117839, -0.03125   ,  0.18098958, -0.00193532])"
      ]
     },
     "execution_count": 26,
     "metadata": {},
     "output_type": "execute_result"
    }
   ],
   "source": [
    "avgWordVec(strings)"
   ]
  },
  {
   "cell_type": "code",
   "execution_count": 18,
   "metadata": {
    "collapsed": false
   },
   "outputs": [
    {
     "ename": "SyntaxError",
     "evalue": "invalid syntax (<ipython-input-18-26092c668b34>, line 1)",
     "output_type": "error",
     "traceback": [
      "\u001b[0;36m  File \u001b[0;32m\"<ipython-input-18-26092c668b34>\"\u001b[0;36m, line \u001b[0;32m1\u001b[0m\n\u001b[0;31m    dir news\u001b[0m\n\u001b[0m           ^\u001b[0m\n\u001b[0;31mSyntaxError\u001b[0m\u001b[0;31m:\u001b[0m invalid syntax\n"
     ]
    }
   ],
   "source": [
    "dir news"
   ]
  },
  {
   "cell_type": "code",
   "execution_count": 19,
   "metadata": {
    "collapsed": false
   },
   "outputs": [
    {
     "data": {
      "text/plain": [
       "['__class__',\n",
       " '__contains__',\n",
       " '__delattr__',\n",
       " '__dict__',\n",
       " '__doc__',\n",
       " '__format__',\n",
       " '__getattribute__',\n",
       " '__getitem__',\n",
       " '__hash__',\n",
       " '__init__',\n",
       " '__module__',\n",
       " '__new__',\n",
       " '__reduce__',\n",
       " '__reduce_ex__',\n",
       " '__repr__',\n",
       " '__setattr__',\n",
       " '__sizeof__',\n",
       " '__str__',\n",
       " '__subclasshook__',\n",
       " '__weakref__',\n",
       " '_adapt_by_suffix',\n",
       " '_do_train_job',\n",
       " '_load_specials',\n",
       " '_raw_word_count',\n",
       " '_save_specials',\n",
       " '_smart_save',\n",
       " 'accuracy',\n",
       " 'alpha',\n",
       " 'batch_words',\n",
       " 'build_vocab',\n",
       " 'cbow_mean',\n",
       " 'clear_sims',\n",
       " 'create_binary_tree',\n",
       " 'cum_table',\n",
       " 'doesnt_match',\n",
       " 'estimate_memory',\n",
       " 'finalize_vocab',\n",
       " 'hashfxn',\n",
       " 'hs',\n",
       " 'index2word',\n",
       " 'init_sims',\n",
       " 'intersect_word2vec_format',\n",
       " 'iter',\n",
       " 'layer1_size',\n",
       " 'load',\n",
       " 'load_word2vec_format',\n",
       " 'log_accuracy',\n",
       " 'make_cum_table',\n",
       " 'max_vocab_size',\n",
       " 'min_alpha',\n",
       " 'min_alpha_yet_reached',\n",
       " 'min_count',\n",
       " 'most_similar',\n",
       " 'most_similar_cosmul',\n",
       " 'n_similarity',\n",
       " 'negative',\n",
       " 'null_word',\n",
       " 'random',\n",
       " 'reset_from',\n",
       " 'reset_weights',\n",
       " 'sample',\n",
       " 'save',\n",
       " 'save_word2vec_format',\n",
       " 'scale_vocab',\n",
       " 'scan_vocab',\n",
       " 'score',\n",
       " 'seed',\n",
       " 'seeded_vector',\n",
       " 'sg',\n",
       " 'similar_by_vector',\n",
       " 'similar_by_word',\n",
       " 'similarity',\n",
       " 'sort_vocab',\n",
       " 'sorted_vocab',\n",
       " 'syn0',\n",
       " 'total_train_time',\n",
       " 'train',\n",
       " 'train_count',\n",
       " 'update_weights',\n",
       " 'vector_size',\n",
       " 'vocab',\n",
       " 'window',\n",
       " 'wmdistance',\n",
       " 'workers']"
      ]
     },
     "execution_count": 19,
     "metadata": {},
     "output_type": "execute_result"
    }
   ],
   "source": [
    "dir(news)"
   ]
  },
  {
   "cell_type": "code",
   "execution_count": 20,
   "metadata": {
    "collapsed": false
   },
   "outputs": [
    {
     "data": {
      "text/plain": [
       "300"
      ]
     },
     "execution_count": 20,
     "metadata": {},
     "output_type": "execute_result"
    }
   ],
   "source": [
    "news.vector_size\n"
   ]
  },
  {
   "cell_type": "code",
   "execution_count": null,
   "metadata": {
    "collapsed": true
   },
   "outputs": [],
   "source": []
  }
 ],
 "metadata": {
  "kernelspec": {
   "display_name": "Python 2",
   "language": "python",
   "name": "python2"
  },
  "language_info": {
   "codemirror_mode": {
    "name": "ipython",
    "version": 2
   },
   "file_extension": ".py",
   "mimetype": "text/x-python",
   "name": "python",
   "nbconvert_exporter": "python",
   "pygments_lexer": "ipython2",
   "version": "2.7.12"
  }
 },
 "nbformat": 4,
 "nbformat_minor": 1
}
