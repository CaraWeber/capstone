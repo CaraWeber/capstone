{
 "cells": [
  {
   "cell_type": "code",
   "execution_count": 1,
   "metadata": {
    "collapsed": false
   },
   "outputs": [],
   "source": [
    "userInput = {'x': ['hate', 'love'], 'y': ['violence','peace'], 'z': ['sad','happy'], 'text': 'this is a string of text about happiness and sadness but mostly sadness in fact maybe even despair.  Despair is dark, dark like fighting and war and unquiet nights.'}\n"
   ]
  },
  {
   "cell_type": "code",
   "execution_count": 2,
   "metadata": {
    "collapsed": false
   },
   "outputs": [
    {
     "name": "stderr",
     "output_type": "stream",
     "text": [
      "/usr/local/lib/python2.7/site-packages/gensim/utils.py:1015: UserWarning: Pattern library is not installed, lemmatization won't be available.\n",
      "  warnings.warn(\"Pattern library is not installed, lemmatization won't be available.\")\n"
     ]
    }
   ],
   "source": [
    "import numpy as np\n",
    "import pandas as pd\n",
    "from bs4 import BeautifulSoup\n",
    "import re\n",
    "from nltk.corpus import stopwords\n",
    "from gensim.models import word2vec"
   ]
  },
  {
   "cell_type": "code",
   "execution_count": 3,
   "metadata": {
    "collapsed": false
   },
   "outputs": [],
   "source": [
    "news = word2vec.Word2Vec.load_word2vec_format('bigFiles/GoogleNews-vectors-negative300.bin', binary=True)\n"
   ]
  },
  {
   "cell_type": "code",
   "execution_count": 33,
   "metadata": {
    "collapsed": false
   },
   "outputs": [],
   "source": [
    "def text_to_words(textfield, model):\n",
    "    textblock = BeautifulSoup(textfield, 'html.parser').get_text()\n",
    "    textblock = re.sub(\"[^a-zA-Z]\", \" \", textblock)\n",
    "    words = textblock.lower().split()\n",
    "    stops = set(stopwords.words(\"english\"))\n",
    "    words = [w for w in words if w in model and not w in stops]\n",
    "    return words\n"
   ]
  },
  {
   "cell_type": "code",
   "execution_count": 54,
   "metadata": {
    "collapsed": false
   },
   "outputs": [],
   "source": [
    "def project3D(model, xmax, ymax, zmax, words, words2 = None):\n",
    "    print \"WORDS \"\n",
    "    print words\n",
    "    print \"WORDS2\"\n",
    "    print words2\n",
    "    wordCoordinates={}\n",
    "    wordCoordinates2={}\n",
    "\n",
    "    for word in words:\n",
    "        coords = []\n",
    "        coords.append(np.asscalar(np.dot(model[word], xmax)/np.linalg.norm(xmax)))\n",
    "        coords.append(np.asscalar(np.dot(model[word], ymax)/np.linalg.norm(ymax)))\n",
    "        coords.append(np.asscalar(np.dot(model[word], zmax)/np.linalg.norm(zmax)))\n",
    "        wordCoordinates[word] = coords\n",
    "\n",
    "    if words2 != None:\n",
    "        for word in words2:\n",
    "            coords = []\n",
    "            coords.append(np.asscalar(np.dot(model[word], xmax)/np.linalg.norm(xmax)))\n",
    "            coords.append(np.asscalar(np.dot(model[word], ymax)/np.linalg.norm(ymax)))\n",
    "            coords.append(np.asscalar(np.dot(model[word], zmax)/np.linalg.norm(zmax)))\n",
    "            wordCoordinates2[word] = coords\n",
    "\n",
    "    return {'text1': wordCoordinates, 'text2': wordCoordinates2}\n",
    "\n",
    "\n",
    "# wordCoordinate = {}\n",
    "# {'happy' : [.234, .32484387, .984357], 'puppy': [.234234, .4983982, .21425]}"
   ]
  },
  {
   "cell_type": "code",
   "execution_count": 55,
   "metadata": {
    "collapsed": false
   },
   "outputs": [],
   "source": [
    "def avgWordVec(arrayOfStrings):\n",
    "    vecs = [news[w] for w in arrayOfStrings if w in news]\n",
    "    return reduce(lambda sum, word: sum + word, vecs, np.zeros(news.vector_size))/len(vecs)\n"
   ]
  },
  {
   "cell_type": "code",
   "execution_count": 56,
   "metadata": {
    "collapsed": false
   },
   "outputs": [],
   "source": [
    "def getPoints(userInputObj):\n",
    "    print userInputObj\n",
    "\n",
    "    textfield = userInputObj['text']\n",
    "    wordsToPlot = [text_to_words(textfield, news)]\n",
    "\n",
    "    if 'text2' in userInputObj:\n",
    "        print \"in text2\"\n",
    "        textfield2 = userInputObj['text2']\n",
    "        wordsToPlot.append(text_to_words(textfield2, news))\n",
    "\n",
    "    print wordsToPlot\n",
    "    xmax = avgWordVec(userInputObj['x'][1])\n",
    "\n",
    "    ymax = avgWordVec(userInputObj['y'][1])\n",
    "\n",
    "    zmax = avgWordVec(userInputObj['z'][1])\n",
    "\n",
    "    words_with_coords = project3D(news, xmax, ymax, zmax, *wordsToPlot)\n",
    "    return words_with_coords"
   ]
  },
  {
   "cell_type": "code",
   "execution_count": 57,
   "metadata": {
    "collapsed": true
   },
   "outputs": [],
   "source": [
    "inputBo =    {\n",
    "      \"x\": [[\"despair\", \"sorrow\", \"hopeless\"], [\"joy\", \"hope\", \"happiness\"]],\n",
    "      \"y\": [[\"conflict\", \"strife\", \"violence\"], [\"peace\", \"calm\", \"tranquility\"]],\n",
    "      \"z\": [[\"danger\", \"warning\", \"unsafe\",\"harm\"], [\"security\", \"safe\", \"secure\"]],\n",
    "      \"text\": \"My fellow citizens:  I stand here today humbled by the task before us\",\n",
    "      \"text2\": \"Friends, delegates and fellow Americans: I humbly and gratefully accept\"\n",
    "    }\n",
    "\n"
   ]
  },
  {
   "cell_type": "code",
   "execution_count": 58,
   "metadata": {
    "collapsed": false
   },
   "outputs": [
    {
     "name": "stdout",
     "output_type": "stream",
     "text": [
      "{'y': [['conflict', 'strife', 'violence'], ['peace', 'calm', 'tranquility']], 'x': [['despair', 'sorrow', 'hopeless'], ['joy', 'hope', 'happiness']], 'z': [['danger', 'warning', 'unsafe', 'harm'], ['security', 'safe', 'secure']], 'text2': 'Friends, delegates and fellow Americans: I humbly and gratefully accept', 'text': 'My fellow citizens:  I stand here today humbled by the task before us'}\n",
      "in text2\n",
      "[[u'fellow', u'citizens', u'stand', u'today', u'humbled', u'task', u'us'], [u'friends', u'delegates', u'fellow', u'americans', u'humbly', u'gratefully', u'accept']]\n",
      "WORDS \n",
      "[u'fellow', u'citizens', u'stand', u'today', u'humbled', u'task', u'us']\n",
      "WORDS2\n",
      "[u'friends', u'delegates', u'fellow', u'americans', u'humbly', u'gratefully', u'accept']\n"
     ]
    },
    {
     "ename": "TypeError",
     "evalue": "argument of type 'builtin_function_or_method' is not iterable",
     "output_type": "error",
     "traceback": [
      "\u001b[0;31m---------------------------------------------------------------------------\u001b[0m",
      "\u001b[0;31mTypeError\u001b[0m                                 Traceback (most recent call last)",
      "\u001b[0;32m<ipython-input-58-ce5b633fbb23>\u001b[0m in \u001b[0;36m<module>\u001b[0;34m()\u001b[0m\n\u001b[0;32m----> 1\u001b[0;31m \u001b[0mgetPoints\u001b[0m\u001b[0;34m(\u001b[0m\u001b[0minputBo\u001b[0m\u001b[0;34m)\u001b[0m\u001b[0;34m\u001b[0m\u001b[0m\n\u001b[0m",
      "\u001b[0;32m<ipython-input-56-b7d6b07556d9>\u001b[0m in \u001b[0;36mgetPoints\u001b[0;34m(userInputObj)\u001b[0m\n\u001b[1;32m     17\u001b[0m     \u001b[0mzmax\u001b[0m \u001b[0;34m=\u001b[0m \u001b[0mavgWordVec\u001b[0m\u001b[0;34m(\u001b[0m\u001b[0muserInputObj\u001b[0m\u001b[0;34m[\u001b[0m\u001b[0;34m'z'\u001b[0m\u001b[0;34m]\u001b[0m\u001b[0;34m[\u001b[0m\u001b[0;36m1\u001b[0m\u001b[0;34m]\u001b[0m\u001b[0;34m)\u001b[0m\u001b[0;34m\u001b[0m\u001b[0m\n\u001b[1;32m     18\u001b[0m \u001b[0;34m\u001b[0m\u001b[0m\n\u001b[0;32m---> 19\u001b[0;31m     \u001b[0mwords_with_coords\u001b[0m \u001b[0;34m=\u001b[0m \u001b[0mproject3D\u001b[0m\u001b[0;34m(\u001b[0m\u001b[0mnews\u001b[0m\u001b[0;34m,\u001b[0m \u001b[0mxmax\u001b[0m\u001b[0;34m,\u001b[0m \u001b[0mymax\u001b[0m\u001b[0;34m,\u001b[0m \u001b[0mzmax\u001b[0m\u001b[0;34m,\u001b[0m \u001b[0;34m*\u001b[0m\u001b[0mwordsToPlot\u001b[0m\u001b[0;34m)\u001b[0m\u001b[0;34m\u001b[0m\u001b[0m\n\u001b[0m\u001b[1;32m     20\u001b[0m     \u001b[0;32mreturn\u001b[0m \u001b[0mwords_with_coords\u001b[0m\u001b[0;34m\u001b[0m\u001b[0m\n",
      "\u001b[0;32m<ipython-input-54-fb5accaa0d4f>\u001b[0m in \u001b[0;36mproject3D\u001b[0;34m(model, xmax, ymax, zmax, words, words2)\u001b[0m\n\u001b[1;32m     14\u001b[0m         \u001b[0mwordCoordinates\u001b[0m\u001b[0;34m[\u001b[0m\u001b[0mword\u001b[0m\u001b[0;34m]\u001b[0m \u001b[0;34m=\u001b[0m \u001b[0mcoords\u001b[0m\u001b[0;34m\u001b[0m\u001b[0m\n\u001b[1;32m     15\u001b[0m \u001b[0;34m\u001b[0m\u001b[0m\n\u001b[0;32m---> 16\u001b[0;31m     \u001b[0;32mif\u001b[0m \u001b[0;34m'words2'\u001b[0m \u001b[0;32min\u001b[0m \u001b[0mlocals\u001b[0m \u001b[0;32mand\u001b[0m \u001b[0mwords2\u001b[0m \u001b[0;34m!=\u001b[0m \u001b[0mNone\u001b[0m\u001b[0;34m:\u001b[0m\u001b[0;34m\u001b[0m\u001b[0m\n\u001b[0m\u001b[1;32m     17\u001b[0m         \u001b[0;32mfor\u001b[0m \u001b[0mword\u001b[0m \u001b[0;32min\u001b[0m \u001b[0mwords2\u001b[0m\u001b[0;34m:\u001b[0m\u001b[0;34m\u001b[0m\u001b[0m\n\u001b[1;32m     18\u001b[0m             \u001b[0mcoords\u001b[0m \u001b[0;34m=\u001b[0m \u001b[0;34m[\u001b[0m\u001b[0;34m]\u001b[0m\u001b[0;34m\u001b[0m\u001b[0m\n",
      "\u001b[0;31mTypeError\u001b[0m: argument of type 'builtin_function_or_method' is not iterable"
     ]
    }
   ],
   "source": [
    "getPoints(inputBo)"
   ]
  },
  {
   "cell_type": "code",
   "execution_count": null,
   "metadata": {
    "collapsed": true
   },
   "outputs": [],
   "source": []
  }
 ],
 "metadata": {
  "kernelspec": {
   "display_name": "Python 2",
   "language": "python",
   "name": "python2"
  },
  "language_info": {
   "codemirror_mode": {
    "name": "ipython",
    "version": 2
   },
   "file_extension": ".py",
   "mimetype": "text/x-python",
   "name": "python",
   "nbconvert_exporter": "python",
   "pygments_lexer": "ipython2",
   "version": "2.7.12"
  }
 },
 "nbformat": 4,
 "nbformat_minor": 1
}
