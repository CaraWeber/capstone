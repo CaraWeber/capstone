{
 "cells": [
  {
   "cell_type": "code",
   "execution_count": 12,
   "metadata": {
    "collapsed": false
   },
   "outputs": [],
   "source": [
    "import pandas as pd\n",
    "train = pd.read_csv(\"shortArticles.tsv\", header=0, delimiter=\"\\t\", quoting=3, encoding=\"utf8\")"
   ]
  },
  {
   "cell_type": "code",
   "execution_count": 13,
   "metadata": {
    "collapsed": true
   },
   "outputs": [],
   "source": [
    "from bs4 import BeautifulSoup\n",
    "import re\n",
    "from nltk.corpus import stopwords\n",
    "\n",
    "def article_to_wordlist(article, remove_stopwords=False):\n",
    "    article_text = BeautifulSoup(article).get_text()\n",
    "    article_text = re.sub(\"[^a-zA-Z]\", \" \", article_text)\n",
    "    words = article_text.lower().split()\n",
    "    if remove_stopwords:\n",
    "        stops = set(stopwords.words(\"english\"))\n",
    "        words = [w for w in words if not w in stops]\n",
    "    return(words)"
   ]
  },
  {
   "cell_type": "code",
   "execution_count": 14,
   "metadata": {
    "collapsed": true
   },
   "outputs": [],
   "source": [
    "import nltk.data"
   ]
  },
  {
   "cell_type": "code",
   "execution_count": 15,
   "metadata": {
    "collapsed": true
   },
   "outputs": [],
   "source": [
    "tokenizer = nltk.data.load('tokenizers/punkt/english.pickle')\n",
    "def article_to_sentences(article, tokenizer, remove_stopwords=False):\n",
    "    raw_sentences = tokenizer.tokenize(article.strip())\n",
    "    sentences = []\n",
    "    for raw_sentence in raw_sentences:\n",
    "        if len(raw_sentence) > 0:\n",
    "            sentences.append(article_to_wordlist(raw_sentence, remove_stopwords))\n",
    "    return sentences"
   ]
  },
  {
   "cell_type": "code",
   "execution_count": 16,
   "metadata": {
    "collapsed": false
   },
   "outputs": [],
   "source": [
    "sentences = []\n",
    "for article in train[\"article\"]:\n",
    "    sentences += article_to_sentences(article, tokenizer)"
   ]
  },
  {
   "cell_type": "code",
   "execution_count": 17,
   "metadata": {
    "collapsed": false
   },
   "outputs": [
    {
     "name": "stdout",
     "output_type": "stream",
     "text": [
      "14\n"
     ]
    }
   ],
   "source": [
    "print len(sentences)"
   ]
  },
  {
   "cell_type": "code",
   "execution_count": 18,
   "metadata": {
    "collapsed": false
   },
   "outputs": [
    {
     "name": "stderr",
     "output_type": "stream",
     "text": [
      "/usr/local/lib/python2.7/site-packages/gensim/utils.py:1015: UserWarning: Pattern library is not installed, lemmatization won't be available.\n",
      "  warnings.warn(\"Pattern library is not installed, lemmatization won't be available.\")\n",
      "2016-11-18 15:15:37,146 : INFO : 'pattern' package not found; tag filters are not available for English\n"
     ]
    }
   ],
   "source": [
    "import logging\n",
    "logging.basicConfig(format='%(asctime)s : %(levelname)s : %(message)s', level=logging.INFO )\n",
    "num_features = 300\n",
    "min_word_count = 2\n",
    "num_workers = 4\n",
    "context = 10\n",
    "downsampling = 1e-3\n",
    "from gensim.models import word2vec"
   ]
  },
  {
   "cell_type": "code",
   "execution_count": 19,
   "metadata": {
    "collapsed": false
   },
   "outputs": [
    {
     "name": "stderr",
     "output_type": "stream",
     "text": [
      "2016-11-18 15:16:03,897 : INFO : collecting all words and their counts\n",
      "2016-11-18 15:16:03,899 : INFO : PROGRESS: at sentence #0, processed 0 words, keeping 0 word types\n",
      "2016-11-18 15:16:03,902 : INFO : collected 189 word types from a corpus of 365 raw words and 14 sentences\n",
      "2016-11-18 15:16:03,903 : INFO : Loading a fresh vocabulary\n",
      "2016-11-18 15:16:03,906 : INFO : min_count=2 retains 61 unique words (32% of original 189, drops 128)\n",
      "2016-11-18 15:16:03,908 : INFO : min_count=2 leaves 237 word corpus (64% of original 365, drops 128)\n",
      "2016-11-18 15:16:03,909 : INFO : deleting the raw counts dictionary of 189 items\n",
      "2016-11-18 15:16:03,912 : INFO : sample=0.001 downsamples 61 most-common words\n",
      "2016-11-18 15:16:03,914 : INFO : downsampling leaves estimated 68 word corpus (29.1% of prior 237)\n",
      "2016-11-18 15:16:03,915 : INFO : estimated required memory for 61 words and 300 dimensions: 176900 bytes\n",
      "2016-11-18 15:16:03,918 : INFO : resetting layer weights\n",
      "2016-11-18 15:16:03,924 : INFO : training model with 4 workers on 61 vocabulary and 300 features, using sg=0 hs=0 sample=0.001 negative=5 window=10\n",
      "2016-11-18 15:16:03,926 : INFO : expecting 14 sentences, matching count from corpus used for vocabulary survey\n",
      "2016-11-18 15:16:03,956 : INFO : worker thread finished; awaiting finish of 3 more threads\n",
      "2016-11-18 15:16:03,961 : INFO : worker thread finished; awaiting finish of 2 more threads\n",
      "2016-11-18 15:16:03,965 : INFO : worker thread finished; awaiting finish of 1 more threads\n",
      "2016-11-18 15:16:03,969 : INFO : worker thread finished; awaiting finish of 0 more threads\n",
      "2016-11-18 15:16:03,972 : INFO : training on 1825 raw words (338 effective words) took 0.0s, 20423 effective words/s\n",
      "2016-11-18 15:16:03,974 : WARNING : under 10 jobs per worker: consider setting a smaller `batch_words' for smoother alpha decay\n",
      "2016-11-18 15:16:03,976 : INFO : precomputing L2-norms of word weight vectors\n"
     ]
    }
   ],
   "source": [
    "model = word2vec.Word2Vec(sentences, workers=num_workers, size = num_features, min_count = min_word_count, \\\n",
    "                         window = context, sample = downsampling)\n",
    "model.init_sims(replace=True)"
   ]
  },
  {
   "cell_type": "code",
   "execution_count": 21,
   "metadata": {
    "collapsed": false
   },
   "outputs": [
    {
     "data": {
      "text/plain": [
       "'federal'"
      ]
     },
     "execution_count": 21,
     "metadata": {},
     "output_type": "execute_result"
    }
   ],
   "source": [
    "model.doesnt_match(\"president federal representative bill\".split())"
   ]
  },
  {
   "cell_type": "code",
   "execution_count": 22,
   "metadata": {
    "collapsed": false
   },
   "outputs": [
    {
     "data": {
      "text/plain": [
       "'federal'"
      ]
     },
     "execution_count": 22,
     "metadata": {},
     "output_type": "execute_result"
    }
   ],
   "source": [
    "model.doesnt_match(\"president federal representative history\".split())"
   ]
  },
  {
   "cell_type": "code",
   "execution_count": 23,
   "metadata": {
    "collapsed": false
   },
   "outputs": [
    {
     "ename": "TypeError",
     "evalue": "'int' object is not iterable",
     "output_type": "error",
     "traceback": [
      "\u001b[0;31m---------------------------------------------------------------------------\u001b[0m",
      "\u001b[0;31mTypeError\u001b[0m                                 Traceback (most recent call last)",
      "\u001b[0;32m<ipython-input-23-2e11cc99124d>\u001b[0m in \u001b[0;36m<module>\u001b[0;34m()\u001b[0m\n\u001b[0;32m----> 1\u001b[0;31m \u001b[0;32mprint\u001b[0m \u001b[0mmodel\u001b[0m\u001b[0;34m[\u001b[0m\u001b[0;36m0\u001b[0m\u001b[0;34m]\u001b[0m\u001b[0;34m\u001b[0m\u001b[0m\n\u001b[0m",
      "\u001b[0;32m/usr/local/lib/python2.7/site-packages/gensim/models/word2vec.pyc\u001b[0m in \u001b[0;36m__getitem__\u001b[0;34m(self, words)\u001b[0m\n\u001b[1;32m   1578\u001b[0m             \u001b[0;32mreturn\u001b[0m \u001b[0mself\u001b[0m\u001b[0;34m.\u001b[0m\u001b[0msyn0\u001b[0m\u001b[0;34m[\u001b[0m\u001b[0mself\u001b[0m\u001b[0;34m.\u001b[0m\u001b[0mvocab\u001b[0m\u001b[0;34m[\u001b[0m\u001b[0mwords\u001b[0m\u001b[0;34m]\u001b[0m\u001b[0;34m.\u001b[0m\u001b[0mindex\u001b[0m\u001b[0;34m]\u001b[0m\u001b[0;34m\u001b[0m\u001b[0m\n\u001b[1;32m   1579\u001b[0m \u001b[0;34m\u001b[0m\u001b[0m\n\u001b[0;32m-> 1580\u001b[0;31m         \u001b[0;32mreturn\u001b[0m \u001b[0mvstack\u001b[0m\u001b[0;34m(\u001b[0m\u001b[0;34m[\u001b[0m\u001b[0mself\u001b[0m\u001b[0;34m.\u001b[0m\u001b[0msyn0\u001b[0m\u001b[0;34m[\u001b[0m\u001b[0mself\u001b[0m\u001b[0;34m.\u001b[0m\u001b[0mvocab\u001b[0m\u001b[0;34m[\u001b[0m\u001b[0mword\u001b[0m\u001b[0;34m]\u001b[0m\u001b[0;34m.\u001b[0m\u001b[0mindex\u001b[0m\u001b[0;34m]\u001b[0m \u001b[0;32mfor\u001b[0m \u001b[0mword\u001b[0m \u001b[0;32min\u001b[0m \u001b[0mwords\u001b[0m\u001b[0;34m]\u001b[0m\u001b[0;34m)\u001b[0m\u001b[0;34m\u001b[0m\u001b[0m\n\u001b[0m\u001b[1;32m   1581\u001b[0m \u001b[0;34m\u001b[0m\u001b[0m\n\u001b[1;32m   1582\u001b[0m     \u001b[0;32mdef\u001b[0m \u001b[0m__contains__\u001b[0m\u001b[0;34m(\u001b[0m\u001b[0mself\u001b[0m\u001b[0;34m,\u001b[0m \u001b[0mword\u001b[0m\u001b[0;34m)\u001b[0m\u001b[0;34m:\u001b[0m\u001b[0;34m\u001b[0m\u001b[0m\n",
      "\u001b[0;31mTypeError\u001b[0m: 'int' object is not iterable"
     ]
    }
   ],
   "source": [
    "print model[0]"
   ]
  },
  {
   "cell_type": "code",
   "execution_count": 24,
   "metadata": {
    "collapsed": false
   },
   "outputs": [
    {
     "name": "stdout",
     "output_type": "stream",
     "text": [
      "[ 0.0013956  -0.00210436  0.05805452 -0.02370084 -0.03050801 -0.01432053\n",
      "  0.0807432   0.08043005  0.09147038  0.00712296 -0.00173326  0.01953176\n",
      " -0.04967156 -0.03017672 -0.09568081  0.02561516  0.054412   -0.01374455\n",
      "  0.06454805 -0.05624231 -0.08034775  0.07308684  0.07476535  0.08578315\n",
      " -0.06941005 -0.01849161 -0.00855363 -0.0169792   0.01250665 -0.07572077\n",
      " -0.03231204 -0.03740505 -0.08180846  0.05642473 -0.07529686 -0.08524871\n",
      " -0.01019788 -0.04184644  0.07991029  0.02961547 -0.03034598  0.05348257\n",
      "  0.05229228 -0.0155925   0.08380798 -0.01205648  0.04505677 -0.05106147\n",
      "  0.00501827 -0.09186471 -0.06070689  0.04925759 -0.05451013  0.06463555\n",
      " -0.02835889 -0.09044255  0.07299845  0.01782253 -0.01032326 -0.03468812\n",
      " -0.03869071 -0.06799056 -0.05330624  0.07641754  0.01393117 -0.03008528\n",
      "  0.09190113 -0.04422194 -0.00120128 -0.09625824  0.03224762 -0.06899031\n",
      " -0.0266252  -0.05264938  0.00483153  0.04320577  0.02717433  0.04078924\n",
      " -0.03600953  0.02427658  0.09025032 -0.05035673 -0.00484458  0.06473733\n",
      " -0.08462556 -0.09485494 -0.00873347 -0.0198166  -0.04975618 -0.05526864\n",
      " -0.04906593  0.09938956 -0.08179902 -0.06519689  0.03040656  0.00373004\n",
      "  0.05954052 -0.03232289 -0.0277024   0.04660069 -0.02491331  0.01994771\n",
      " -0.01920589 -0.09134667 -0.08076721 -0.078411   -0.07194863  0.07120272\n",
      "  0.00509348 -0.01656953  0.04713342 -0.04512324  0.07011616 -0.03381248\n",
      "  0.00828344 -0.05381563  0.02115656 -0.01626766 -0.08154816 -0.05178829\n",
      " -0.0379639  -0.02221224  0.00902585 -0.01154977 -0.04785751  0.07596309\n",
      " -0.04616795  0.0526683  -0.00309938 -0.0003253  -0.06363211 -0.01702759\n",
      " -0.09397475  0.02768426  0.02106755 -0.0192557   0.06448195  0.10194609\n",
      "  0.05462262  0.08704108  0.03782959 -0.10221602  0.09900627 -0.01460543\n",
      " -0.09000818  0.0563887  -0.07891316 -0.07876886 -0.06405278 -0.06810766\n",
      "  0.08100877 -0.03218462  0.02401061  0.07579377  0.04142909 -0.09563705\n",
      " -0.03614089  0.00375563  0.06113268  0.024505   -0.05844451  0.09668113\n",
      "  0.08098017  0.01875315 -0.09215843 -0.01576901 -0.01934966  0.0428544\n",
      " -0.08307194  0.07515879  0.1036382  -0.04208443  0.07738148  0.03252542\n",
      "  0.05493772 -0.07501459 -0.054092   -0.06529404 -0.02665556  0.01089438\n",
      "  0.01542517  0.05990275  0.09971644  0.00710518  0.00227604 -0.10573263\n",
      " -0.09323151  0.07479107 -0.09376722 -0.09223558 -0.00801315 -0.04718036\n",
      " -0.09672962  0.08841712 -0.09676261 -0.0692535   0.02459294 -0.06720925\n",
      " -0.04811578  0.0859833   0.05589744 -0.09190442  0.03942548 -0.09271081\n",
      " -0.01661093  0.06091227 -0.03277219  0.08201282  0.09166387  0.01001903\n",
      "  0.03918494  0.06585941 -0.02863164 -0.05087423  0.02389161  0.06116333\n",
      "  0.05895699 -0.09936067  0.01296932  0.06546468  0.09701163 -0.01752922\n",
      " -0.06496535  0.07089023 -0.05707954  0.06506902  0.05587292 -0.0343054\n",
      "  0.02668182 -0.04544308  0.0612532   0.00421558  0.05190697  0.07035145\n",
      "  0.04192926 -0.05040056 -0.09222393 -0.06986322 -0.07157176  0.04002982\n",
      "  0.06051389 -0.00663671 -0.02627934  0.07540007 -0.07310198  0.03111546\n",
      "  0.05592269 -0.03800775 -0.03456869 -0.07240523 -0.0343877   0.09441474\n",
      "  0.06952003 -0.02347518  0.03476114  0.09122619  0.05110235 -0.02381434\n",
      " -0.04838339  0.06204776  0.06851988 -0.06677488 -0.02337483 -0.07905884\n",
      "  0.02797945  0.02174907 -0.02466753  0.00127434 -0.0656513   0.04910772\n",
      "  0.05581556 -0.0210431   0.05982933  0.03751869 -0.02123351 -0.03104028\n",
      " -0.02226614 -0.00973238  0.06195489  0.07646868 -0.01185097 -0.0827423\n",
      "  0.08970142 -0.04565278  0.01836024  0.02577922 -0.07678894  0.05122142\n",
      " -0.05809161  0.00757237  0.09461023  0.03089462  0.04879287  0.06576193\n",
      "  0.06644924  0.08978882  0.03963334 -0.0487144   0.01154213  0.09940267]\n"
     ]
    }
   ],
   "source": [
    "print model[\"president\"]"
   ]
  },
  {
   "cell_type": "code",
   "execution_count": 25,
   "metadata": {
    "collapsed": false
   },
   "outputs": [
    {
     "data": {
      "text/plain": [
       "{u'a': <gensim.models.word2vec.Vocab at 0x10e8d1ed0>,\n",
       " u'accountability': <gensim.models.word2vec.Vocab at 0x10e8d1910>,\n",
       " u'act': <gensim.models.word2vec.Vocab at 0x10e8d1690>,\n",
       " u'american': <gensim.models.word2vec.Vocab at 0x10e8d1d50>,\n",
       " u'an': <gensim.models.word2vec.Vocab at 0x10e8d1c10>,\n",
       " u'and': <gensim.models.word2vec.Vocab at 0x10e8d1b90>,\n",
       " u'are': <gensim.models.word2vec.Vocab at 0x10e8d13d0>,\n",
       " u'assets': <gensim.models.word2vec.Vocab at 0x10e8d1f10>,\n",
       " u'be': <gensim.models.word2vec.Vocab at 0x10e8d1450>,\n",
       " u'blind': <gensim.models.word2vec.Vocab at 0x10e8d1710>,\n",
       " u'bush': <gensim.models.word2vec.Vocab at 0x10e58a210>,\n",
       " u'business': <gensim.models.word2vec.Vocab at 0x10e8d1490>,\n",
       " u'c': <gensim.models.word2vec.Vocab at 0x10e8d1550>,\n",
       " u'can': <gensim.models.word2vec.Vocab at 0x10e8d1b50>,\n",
       " u'clark': <gensim.models.word2vec.Vocab at 0x10e8d1790>,\n",
       " u'conflict': <gensim.models.word2vec.Vocab at 0x10e8d1e50>,\n",
       " u'conflicts': <gensim.models.word2vec.Vocab at 0x10e8d14d0>,\n",
       " u'd': <gensim.models.word2vec.Vocab at 0x10e8d12d0>,\n",
       " u'elect': <gensim.models.word2vec.Vocab at 0x10e8d1750>,\n",
       " u'engaging': <gensim.models.word2vec.Vocab at 0x10e8d1390>,\n",
       " u'ensure': <gensim.models.word2vec.Vocab at 0x10e8d1e10>,\n",
       " u'families': <gensim.models.word2vec.Vocab at 0x10e8d1a50>,\n",
       " u'federal': <gensim.models.word2vec.Vocab at 0x10e8d1410>,\n",
       " u'financial': <gensim.models.word2vec.Vocab at 0x10e8d1310>,\n",
       " u'from': <gensim.models.word2vec.Vocab at 0x10e8d18d0>,\n",
       " u'george': <gensim.models.word2vec.Vocab at 0x10e8d1890>,\n",
       " u'government': <gensim.models.word2vec.Vocab at 0x10e8d11d0>,\n",
       " u'h': <gensim.models.word2vec.Vocab at 0x10e8d19d0>,\n",
       " u'has': <gensim.models.word2vec.Vocab at 0x10e8d1050>,\n",
       " u'have': <gensim.models.word2vec.Vocab at 0x10e8d1c50>,\n",
       " u'his': <gensim.models.word2vec.Vocab at 0x10e8d1090>,\n",
       " u'in': <gensim.models.word2vec.Vocab at 0x10e8d1c90>,\n",
       " u'interest': <gensim.models.word2vec.Vocab at 0x10e8d1990>,\n",
       " u'interests': <gensim.models.word2vec.Vocab at 0x10e8d1a10>,\n",
       " u'not': <gensim.models.word2vec.Vocab at 0x10e8d1250>,\n",
       " u'of': <gensim.models.word2vec.Vocab at 0x10e8d1590>,\n",
       " u'office': <gensim.models.word2vec.Vocab at 0x10e3cbe50>,\n",
       " u'on': <gensim.models.word2vec.Vocab at 0x10e8d1510>,\n",
       " u'or': <gensim.models.word2vec.Vocab at 0x10e8d16d0>,\n",
       " u'people': <gensim.models.word2vec.Vocab at 0x10e8d1350>,\n",
       " u'president': <gensim.models.word2vec.Vocab at 0x10e8d1e90>,\n",
       " u'presidential': <gensim.models.word2vec.Vocab at 0x10e8d1290>,\n",
       " u'presidents': <gensim.models.word2vec.Vocab at 0x10e8d17d0>,\n",
       " u'prohibits': <gensim.models.word2vec.Vocab at 0x10e8d1cd0>,\n",
       " u'responsibilities': <gensim.models.word2vec.Vocab at 0x10e8d1d90>,\n",
       " u's': <gensim.models.word2vec.Vocab at 0x10e8d1610>,\n",
       " u'that': <gensim.models.word2vec.Vocab at 0x10e8d1a90>,\n",
       " u'the': <gensim.models.word2vec.Vocab at 0x10e8d1f90>,\n",
       " u'their': <gensim.models.word2vec.Vocab at 0x10e8d1950>,\n",
       " u'they': <gensim.models.word2vec.Vocab at 0x10e8d1210>,\n",
       " u'this': <gensim.models.word2vec.Vocab at 0x10e8d1b10>,\n",
       " u'to': <gensim.models.word2vec.Vocab at 0x10ac776d0>,\n",
       " u'transition': <gensim.models.word2vec.Vocab at 0x10e8d15d0>,\n",
       " u'trump': <gensim.models.word2vec.Vocab at 0x10e8d1bd0>,\n",
       " u'trust': <gensim.models.word2vec.Vocab at 0x10e8d1850>,\n",
       " u'vice': <gensim.models.word2vec.Vocab at 0x10e8d1f50>,\n",
       " u'w': <gensim.models.word2vec.Vocab at 0x10e8d1650>,\n",
       " u'washington': <gensim.models.word2vec.Vocab at 0x10e8d1810>,\n",
       " u'when': <gensim.models.word2vec.Vocab at 0x10e8d1d10>,\n",
       " u'which': <gensim.models.word2vec.Vocab at 0x10e8d1dd0>,\n",
       " u'with': <gensim.models.word2vec.Vocab at 0x10e8d1ad0>}"
      ]
     },
     "execution_count": 25,
     "metadata": {},
     "output_type": "execute_result"
    }
   ],
   "source": [
    "model.vocab"
   ]
  },
  {
   "cell_type": "code",
   "execution_count": 27,
   "metadata": {
    "collapsed": false
   },
   "outputs": [],
   "source": [
    "import numpy as np"
   ]
  },
  {
   "cell_type": "code",
   "execution_count": 30,
   "metadata": {
    "collapsed": false
   },
   "outputs": [
    {
     "ename": "KeyError",
     "evalue": "'love'",
     "output_type": "error",
     "traceback": [
      "\u001b[0;31m---------------------------------------------------------------------------\u001b[0m",
      "\u001b[0;31mKeyError\u001b[0m                                  Traceback (most recent call last)",
      "\u001b[0;32m<ipython-input-30-73d7d024e326>\u001b[0m in \u001b[0;36m<module>\u001b[0;34m()\u001b[0m\n\u001b[0;32m----> 1\u001b[0;31m \u001b[0mnp\u001b[0m\u001b[0;34m.\u001b[0m\u001b[0mlinalg\u001b[0m\u001b[0;34m.\u001b[0m\u001b[0mnorm\u001b[0m\u001b[0;34m(\u001b[0m\u001b[0mmodel\u001b[0m\u001b[0;34m[\u001b[0m\u001b[0;34m'love'\u001b[0m\u001b[0;34m]\u001b[0m\u001b[0;34m)\u001b[0m\u001b[0;34m\u001b[0m\u001b[0m\n\u001b[0m",
      "\u001b[0;32m/usr/local/lib/python2.7/site-packages/gensim/models/word2vec.pyc\u001b[0m in \u001b[0;36m__getitem__\u001b[0;34m(self, words)\u001b[0m\n\u001b[1;32m   1576\u001b[0m         \u001b[0;32mif\u001b[0m \u001b[0misinstance\u001b[0m\u001b[0;34m(\u001b[0m\u001b[0mwords\u001b[0m\u001b[0;34m,\u001b[0m \u001b[0mstring_types\u001b[0m\u001b[0;34m)\u001b[0m\u001b[0;34m:\u001b[0m\u001b[0;34m\u001b[0m\u001b[0m\n\u001b[1;32m   1577\u001b[0m             \u001b[0;31m# allow calls like trained_model['office'], as a shorthand for trained_model[['office']]\u001b[0m\u001b[0;34m\u001b[0m\u001b[0;34m\u001b[0m\u001b[0m\n\u001b[0;32m-> 1578\u001b[0;31m             \u001b[0;32mreturn\u001b[0m \u001b[0mself\u001b[0m\u001b[0;34m.\u001b[0m\u001b[0msyn0\u001b[0m\u001b[0;34m[\u001b[0m\u001b[0mself\u001b[0m\u001b[0;34m.\u001b[0m\u001b[0mvocab\u001b[0m\u001b[0;34m[\u001b[0m\u001b[0mwords\u001b[0m\u001b[0;34m]\u001b[0m\u001b[0;34m.\u001b[0m\u001b[0mindex\u001b[0m\u001b[0;34m]\u001b[0m\u001b[0;34m\u001b[0m\u001b[0m\n\u001b[0m\u001b[1;32m   1579\u001b[0m \u001b[0;34m\u001b[0m\u001b[0m\n\u001b[1;32m   1580\u001b[0m         \u001b[0;32mreturn\u001b[0m \u001b[0mvstack\u001b[0m\u001b[0;34m(\u001b[0m\u001b[0;34m[\u001b[0m\u001b[0mself\u001b[0m\u001b[0;34m.\u001b[0m\u001b[0msyn0\u001b[0m\u001b[0;34m[\u001b[0m\u001b[0mself\u001b[0m\u001b[0;34m.\u001b[0m\u001b[0mvocab\u001b[0m\u001b[0;34m[\u001b[0m\u001b[0mword\u001b[0m\u001b[0;34m]\u001b[0m\u001b[0;34m.\u001b[0m\u001b[0mindex\u001b[0m\u001b[0;34m]\u001b[0m \u001b[0;32mfor\u001b[0m \u001b[0mword\u001b[0m \u001b[0;32min\u001b[0m \u001b[0mwords\u001b[0m\u001b[0;34m]\u001b[0m\u001b[0;34m)\u001b[0m\u001b[0;34m\u001b[0m\u001b[0m\n",
      "\u001b[0;31mKeyError\u001b[0m: 'love'"
     ]
    }
   ],
   "source": [
    "model['']"
   ]
  },
  {
   "cell_type": "code",
   "execution_count": null,
   "metadata": {
    "collapsed": true
   },
   "outputs": [],
   "source": []
  }
 ],
 "metadata": {
  "kernelspec": {
   "display_name": "Python 2",
   "language": "python",
   "name": "python2"
  },
  "language_info": {
   "codemirror_mode": {
    "name": "ipython",
    "version": 2
   },
   "file_extension": ".py",
   "mimetype": "text/x-python",
   "name": "python",
   "nbconvert_exporter": "python",
   "pygments_lexer": "ipython2",
   "version": "2.7.12"
  }
 },
 "nbformat": 4,
 "nbformat_minor": 1
}
